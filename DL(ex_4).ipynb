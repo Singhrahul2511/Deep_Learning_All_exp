{
  "cells": [
    {
      "cell_type": "markdown",
      "metadata": {
        "id": "view-in-github",
        "colab_type": "text"
      },
      "source": [
        "<a href=\"https://colab.research.google.com/github/Singhrahul2511/Deep_Learning_All_exp/blob/main/DL(ex_4).ipynb\" target=\"_parent\"><img src=\"https://colab.research.google.com/assets/colab-badge.svg\" alt=\"Open In Colab\"/></a>"
      ]
    },
    {
      "cell_type": "code",
      "execution_count": null,
      "metadata": {
        "colab": {
          "base_uri": "https://localhost:8080/"
        },
        "id": "KJF5eu8TembT",
        "outputId": "09da1b17-7f16-4275-d969-b36a1c697dd3"
      },
      "outputs": [
        {
          "output_type": "stream",
          "name": "stdout",
          "text": [
            "ls: cannot access '/mnt/data/': No such file or directory\n"
          ]
        }
      ],
      "source": [
        "!ls /mnt/data/"
      ]
    },
    {
      "cell_type": "code",
      "execution_count": null,
      "metadata": {
        "colab": {
          "base_uri": "https://localhost:8080/"
        },
        "id": "5_PWrl6SeotA",
        "outputId": "af2627ea-9d0f-4849-fb36-dc0307f9b89b"
      },
      "outputs": [
        {
          "output_type": "stream",
          "name": "stdout",
          "text": [
            "ls: cannot access '/mnt/data/winequality-red.csv': No such file or directory\n"
          ]
        }
      ],
      "source": [
        "!ls -l /mnt/data/winequality-red.csv"
      ]
    },
    {
      "cell_type": "code",
      "execution_count": null,
      "metadata": {
        "colab": {
          "base_uri": "https://localhost:8080/",
          "height": 1000
        },
        "id": "y7_7hpdpbtUE",
        "outputId": "122a809a-a476-4e05-d44c-32e0dd489e1f"
      },
      "outputs": [
        {
          "output_type": "stream",
          "name": "stdout",
          "text": [
            "Column names: Index(['fixed acidity', 'volatile acidity', 'citric acid', 'residual sugar',\n",
            "       'chlorides', 'free sulfur dioxide', 'total sulfur dioxide', 'density',\n",
            "       'pH', 'sulphates', 'alcohol', 'quality'],\n",
            "      dtype='object')\n",
            "   fixed acidity  volatile acidity  citric acid  residual sugar  chlorides  \\\n",
            "0            7.4              0.70         0.00             1.9      0.076   \n",
            "1            7.8              0.88         0.00             2.6      0.098   \n",
            "2            7.8              0.76         0.04             2.3      0.092   \n",
            "3           11.2              0.28         0.56             1.9      0.075   \n",
            "4            7.4              0.70         0.00             1.9      0.076   \n",
            "\n",
            "   free sulfur dioxide  total sulfur dioxide  density    pH  sulphates  \\\n",
            "0                 11.0                  34.0   0.9978  3.51       0.56   \n",
            "1                 25.0                  67.0   0.9968  3.20       0.68   \n",
            "2                 15.0                  54.0   0.9970  3.26       0.65   \n",
            "3                 17.0                  60.0   0.9980  3.16       0.58   \n",
            "4                 11.0                  34.0   0.9978  3.51       0.56   \n",
            "\n",
            "   alcohol  quality  \n",
            "0      9.4        5  \n",
            "1      9.8        5  \n",
            "2      9.8        5  \n",
            "3      9.8        6  \n",
            "4      9.4        5  \n",
            "Average quality training set: 5.6231\n",
            "      fixed acidity  volatile acidity  citric acid  residual sugar  chlorides  \\\n",
            "1140            7.3              0.40         0.30             1.7      0.080   \n",
            "920             9.6              0.41         0.37             2.3      0.091   \n",
            "1198            7.7              0.26         0.26             2.0      0.052   \n",
            "423            10.5              0.24         0.47             2.1      0.066   \n",
            "601            13.2              0.46         0.52             2.2      0.071   \n",
            "\n",
            "      free sulfur dioxide  total sulfur dioxide  density    pH  sulphates  \\\n",
            "1140                 33.0                  79.0  0.99690  3.41       0.65   \n",
            "920                  10.0                  23.0  0.99786  3.24       0.56   \n",
            "1198                 19.0                  77.0  0.99510  3.15       0.79   \n",
            "423                   6.0                  24.0  0.99780  3.15       0.90   \n",
            "601                  12.0                  35.0  1.00060  3.10       0.56   \n",
            "\n",
            "      alcohol  \n",
            "1140      9.5  \n",
            "920      10.5  \n",
            "1198     10.9  \n",
            "423      11.0  \n",
            "601       9.0  \n",
            "Baseline MSE: 0.5939855630834537\n"
          ]
        },
        {
          "output_type": "stream",
          "name": "stderr",
          "text": [
            "/usr/local/lib/python3.10/dist-packages/keras/src/layers/core/dense.py:87: UserWarning: Do not pass an `input_shape`/`input_dim` argument to a layer. When using Sequential models, prefer using an `Input(shape)` object as the first layer in the model instead.\n",
            "  super().__init__(activity_regularizer=activity_regularizer, **kwargs)\n"
          ]
        },
        {
          "output_type": "stream",
          "name": "stdout",
          "text": [
            "Epoch 1/1000\n",
            "16/16 - 3s - 213ms/step - loss: 25.3424 - val_loss: 17.0590\n",
            "Epoch 2/1000\n",
            "16/16 - 0s - 30ms/step - loss: 11.1548 - val_loss: 5.1924\n",
            "Epoch 3/1000\n",
            "16/16 - 0s - 21ms/step - loss: 4.0591 - val_loss: 2.6696\n",
            "Epoch 4/1000\n",
            "16/16 - 1s - 38ms/step - loss: 2.8883 - val_loss: 2.1834\n",
            "Epoch 5/1000\n",
            "16/16 - 0s - 19ms/step - loss: 2.2839 - val_loss: 1.9583\n",
            "Epoch 6/1000\n",
            "16/16 - 1s - 35ms/step - loss: 1.9997 - val_loss: 1.7018\n",
            "Epoch 7/1000\n",
            "16/16 - 0s - 11ms/step - loss: 1.7991 - val_loss: 1.5772\n",
            "Epoch 8/1000\n",
            "16/16 - 0s - 6ms/step - loss: 1.6535 - val_loss: 1.4728\n",
            "Epoch 9/1000\n",
            "16/16 - 0s - 5ms/step - loss: 1.5311 - val_loss: 1.3790\n",
            "Epoch 10/1000\n",
            "16/16 - 0s - 5ms/step - loss: 1.4201 - val_loss: 1.2915\n",
            "Epoch 11/1000\n",
            "16/16 - 0s - 9ms/step - loss: 1.3219 - val_loss: 1.2143\n",
            "Epoch 12/1000\n",
            "16/16 - 0s - 10ms/step - loss: 1.2427 - val_loss: 1.1436\n",
            "Epoch 13/1000\n",
            "16/16 - 0s - 8ms/step - loss: 1.1606 - val_loss: 1.0754\n",
            "Epoch 14/1000\n",
            "16/16 - 0s - 8ms/step - loss: 1.0932 - val_loss: 1.0221\n",
            "Epoch 15/1000\n",
            "16/16 - 0s - 6ms/step - loss: 1.0249 - val_loss: 0.9598\n",
            "Epoch 16/1000\n",
            "16/16 - 0s - 6ms/step - loss: 0.9640 - val_loss: 0.9060\n",
            "Epoch 17/1000\n",
            "16/16 - 0s - 6ms/step - loss: 0.9098 - val_loss: 0.8624\n",
            "Epoch 18/1000\n",
            "16/16 - 0s - 9ms/step - loss: 0.8624 - val_loss: 0.8224\n",
            "Epoch 19/1000\n",
            "16/16 - 0s - 7ms/step - loss: 0.8207 - val_loss: 0.7833\n",
            "Epoch 20/1000\n",
            "16/16 - 0s - 6ms/step - loss: 0.7773 - val_loss: 0.7547\n",
            "Epoch 21/1000\n",
            "16/16 - 0s - 7ms/step - loss: 0.7407 - val_loss: 0.7135\n",
            "Epoch 22/1000\n",
            "16/16 - 0s - 7ms/step - loss: 0.7090 - val_loss: 0.6807\n",
            "Epoch 23/1000\n",
            "16/16 - 0s - 9ms/step - loss: 0.6733 - val_loss: 0.6650\n",
            "Epoch 24/1000\n",
            "16/16 - 0s - 9ms/step - loss: 0.6461 - val_loss: 0.6380\n",
            "Epoch 25/1000\n",
            "16/16 - 0s - 6ms/step - loss: 0.6120 - val_loss: 0.6097\n",
            "Epoch 26/1000\n",
            "16/16 - 0s - 6ms/step - loss: 0.5893 - val_loss: 0.5899\n",
            "Epoch 27/1000\n",
            "16/16 - 0s - 9ms/step - loss: 0.5675 - val_loss: 0.5693\n",
            "Epoch 28/1000\n",
            "16/16 - 0s - 9ms/step - loss: 0.5458 - val_loss: 0.5555\n",
            "Epoch 29/1000\n",
            "16/16 - 0s - 7ms/step - loss: 0.5270 - val_loss: 0.5390\n",
            "Epoch 30/1000\n",
            "16/16 - 0s - 7ms/step - loss: 0.5157 - val_loss: 0.5234\n",
            "Epoch 31/1000\n",
            "16/16 - 0s - 5ms/step - loss: 0.5069 - val_loss: 0.5271\n",
            "Epoch 32/1000\n",
            "16/16 - 0s - 6ms/step - loss: 0.4866 - val_loss: 0.5052\n",
            "Epoch 33/1000\n",
            "16/16 - 0s - 9ms/step - loss: 0.4712 - val_loss: 0.4866\n",
            "Epoch 34/1000\n",
            "16/16 - 0s - 7ms/step - loss: 0.4551 - val_loss: 0.4924\n",
            "Epoch 35/1000\n",
            "16/16 - 0s - 5ms/step - loss: 0.4450 - val_loss: 0.4822\n",
            "Epoch 36/1000\n",
            "16/16 - 0s - 10ms/step - loss: 0.4309 - val_loss: 0.4686\n",
            "Epoch 37/1000\n",
            "16/16 - 0s - 9ms/step - loss: 0.4209 - val_loss: 0.4644\n",
            "Epoch 38/1000\n",
            "16/16 - 0s - 6ms/step - loss: 0.4123 - val_loss: 0.4430\n",
            "Epoch 39/1000\n",
            "16/16 - 0s - 9ms/step - loss: 0.4109 - val_loss: 0.4509\n",
            "Epoch 40/1000\n",
            "16/16 - 0s - 9ms/step - loss: 0.3983 - val_loss: 0.4446\n",
            "Epoch 41/1000\n",
            "16/16 - 0s - 15ms/step - loss: 0.3948 - val_loss: 0.4331\n",
            "Epoch 42/1000\n",
            "16/16 - 0s - 11ms/step - loss: 0.3853 - val_loss: 0.4376\n",
            "Epoch 43/1000\n",
            "16/16 - 0s - 19ms/step - loss: 0.3807 - val_loss: 0.4270\n",
            "Epoch 44/1000\n",
            "16/16 - 0s - 20ms/step - loss: 0.3819 - val_loss: 0.4405\n",
            "Epoch 45/1000\n",
            "16/16 - 0s - 14ms/step - loss: 0.3744 - val_loss: 0.4229\n",
            "Epoch 46/1000\n",
            "16/16 - 0s - 16ms/step - loss: 0.3680 - val_loss: 0.4196\n",
            "Epoch 47/1000\n",
            "16/16 - 0s - 24ms/step - loss: 0.3647 - val_loss: 0.4142\n",
            "Epoch 48/1000\n",
            "16/16 - 1s - 33ms/step - loss: 0.3600 - val_loss: 0.4234\n",
            "Epoch 49/1000\n",
            "16/16 - 0s - 16ms/step - loss: 0.3561 - val_loss: 0.4169\n",
            "Epoch 50/1000\n",
            "16/16 - 0s - 10ms/step - loss: 0.3578 - val_loss: 0.4119\n",
            "Epoch 51/1000\n",
            "16/16 - 0s - 18ms/step - loss: 0.3600 - val_loss: 0.4038\n",
            "Epoch 52/1000\n",
            "16/16 - 0s - 10ms/step - loss: 0.3523 - val_loss: 0.4022\n",
            "Epoch 53/1000\n",
            "16/16 - 0s - 8ms/step - loss: 0.3470 - val_loss: 0.3977\n",
            "Epoch 54/1000\n",
            "16/16 - 0s - 9ms/step - loss: 0.3464 - val_loss: 0.4111\n",
            "Epoch 55/1000\n",
            "16/16 - 0s - 8ms/step - loss: 0.3385 - val_loss: 0.4050\n",
            "Epoch 56/1000\n",
            "16/16 - 0s - 7ms/step - loss: 0.3331 - val_loss: 0.4052\n",
            "Epoch 57/1000\n",
            "16/16 - 0s - 13ms/step - loss: 0.3362 - val_loss: 0.4173\n",
            "Epoch 58/1000\n",
            "16/16 - 0s - 17ms/step - loss: 0.3348 - val_loss: 0.3907\n",
            "Epoch 59/1000\n",
            "16/16 - 0s - 5ms/step - loss: 0.3333 - val_loss: 0.3939\n",
            "Epoch 60/1000\n",
            "16/16 - 0s - 11ms/step - loss: 0.3296 - val_loss: 0.3829\n",
            "Epoch 61/1000\n",
            "16/16 - 0s - 8ms/step - loss: 0.3312 - val_loss: 0.3988\n",
            "Epoch 62/1000\n",
            "16/16 - 0s - 5ms/step - loss: 0.3273 - val_loss: 0.4173\n",
            "Epoch 63/1000\n",
            "16/16 - 0s - 4ms/step - loss: 0.3221 - val_loss: 0.3837\n",
            "Epoch 64/1000\n",
            "16/16 - 0s - 9ms/step - loss: 0.3212 - val_loss: 0.4226\n",
            "Epoch 65/1000\n",
            "16/16 - 0s - 5ms/step - loss: 0.3248 - val_loss: 0.3916\n",
            "Epoch 66/1000\n",
            "16/16 - 0s - 8ms/step - loss: 0.3154 - val_loss: 0.3841\n",
            "Epoch 67/1000\n",
            "16/16 - 0s - 5ms/step - loss: 0.3127 - val_loss: 0.4011\n",
            "Epoch 68/1000\n",
            "16/16 - 0s - 8ms/step - loss: 0.3103 - val_loss: 0.3930\n",
            "Epoch 69/1000\n",
            "16/16 - 0s - 9ms/step - loss: 0.3094 - val_loss: 0.3851\n",
            "Epoch 70/1000\n",
            "16/16 - 0s - 8ms/step - loss: 0.3159 - val_loss: 0.3938\n",
            "Epoch 71/1000\n",
            "16/16 - 0s - 8ms/step - loss: 0.3128 - val_loss: 0.3880\n",
            "Epoch 72/1000\n",
            "16/16 - 0s - 10ms/step - loss: 0.3106 - val_loss: 0.3773\n",
            "Epoch 73/1000\n",
            "16/16 - 0s - 8ms/step - loss: 0.3037 - val_loss: 0.3806\n",
            "Epoch 74/1000\n",
            "16/16 - 0s - 9ms/step - loss: 0.3099 - val_loss: 0.3719\n",
            "Epoch 75/1000\n",
            "16/16 - 0s - 7ms/step - loss: 0.3057 - val_loss: 0.3772\n",
            "Epoch 76/1000\n",
            "16/16 - 0s - 10ms/step - loss: 0.3091 - val_loss: 0.3803\n",
            "Epoch 77/1000\n",
            "16/16 - 0s - 8ms/step - loss: 0.3046 - val_loss: 0.3817\n",
            "Epoch 78/1000\n",
            "16/16 - 0s - 8ms/step - loss: 0.3064 - val_loss: 0.3830\n",
            "Epoch 79/1000\n",
            "16/16 - 0s - 9ms/step - loss: 0.2955 - val_loss: 0.3819\n",
            "Epoch 80/1000\n",
            "16/16 - 0s - 9ms/step - loss: 0.2988 - val_loss: 0.3823\n",
            "Epoch 81/1000\n",
            "16/16 - 0s - 9ms/step - loss: 0.2939 - val_loss: 0.3815\n",
            "Epoch 82/1000\n",
            "16/16 - 0s - 10ms/step - loss: 0.3065 - val_loss: 0.3693\n",
            "Epoch 83/1000\n",
            "16/16 - 0s - 17ms/step - loss: 0.2888 - val_loss: 0.3877\n",
            "Epoch 84/1000\n",
            "16/16 - 0s - 8ms/step - loss: 0.2901 - val_loss: 0.3928\n",
            "Epoch 85/1000\n",
            "16/16 - 0s - 8ms/step - loss: 0.2866 - val_loss: 0.3754\n",
            "Epoch 86/1000\n",
            "16/16 - 0s - 8ms/step - loss: 0.2888 - val_loss: 0.3736\n",
            "Epoch 87/1000\n",
            "16/16 - 0s - 9ms/step - loss: 0.2871 - val_loss: 0.3696\n",
            "Epoch 88/1000\n",
            "16/16 - 0s - 9ms/step - loss: 0.2861 - val_loss: 0.3887\n",
            "Epoch 89/1000\n",
            "16/16 - 0s - 17ms/step - loss: 0.2813 - val_loss: 0.4322\n",
            "Epoch 90/1000\n",
            "16/16 - 0s - 6ms/step - loss: 0.2847 - val_loss: 0.3800\n",
            "Epoch 91/1000\n",
            "16/16 - 0s - 9ms/step - loss: 0.2839 - val_loss: 0.3768\n",
            "Epoch 92/1000\n",
            "16/16 - 0s - 5ms/step - loss: 0.2776 - val_loss: 0.3800\n",
            "Epoch 93/1000\n",
            "16/16 - 0s - 5ms/step - loss: 0.2738 - val_loss: 0.3785\n",
            "Epoch 94/1000\n",
            "16/16 - 0s - 5ms/step - loss: 0.2773 - val_loss: 0.3706\n",
            "Epoch 95/1000\n",
            "16/16 - 0s - 6ms/step - loss: 0.2756 - val_loss: 0.3880\n",
            "Epoch 96/1000\n",
            "16/16 - 0s - 6ms/step - loss: 0.2753 - val_loss: 0.3884\n",
            "Epoch 97/1000\n",
            "16/16 - 0s - 10ms/step - loss: 0.2775 - val_loss: 0.3923\n",
            "Epoch 98/1000\n",
            "16/16 - 0s - 7ms/step - loss: 0.2739 - val_loss: 0.3862\n",
            "Epoch 99/1000\n",
            "16/16 - 0s - 4ms/step - loss: 0.2678 - val_loss: 0.3907\n",
            "Epoch 100/1000\n",
            "16/16 - 0s - 10ms/step - loss: 0.2690 - val_loss: 0.3721\n",
            "Epoch 101/1000\n",
            "16/16 - 0s - 8ms/step - loss: 0.2674 - val_loss: 0.3716\n",
            "Epoch 102/1000\n",
            "16/16 - 0s - 4ms/step - loss: 0.2659 - val_loss: 0.3749\n",
            "Epoch 103/1000\n",
            "16/16 - 0s - 4ms/step - loss: 0.2718 - val_loss: 0.3733\n",
            "Epoch 104/1000\n",
            "16/16 - 0s - 5ms/step - loss: 0.2608 - val_loss: 0.3962\n",
            "Epoch 105/1000\n",
            "16/16 - 0s - 8ms/step - loss: 0.2617 - val_loss: 0.3837\n",
            "Epoch 106/1000\n",
            "16/16 - 0s - 10ms/step - loss: 0.2600 - val_loss: 0.3729\n",
            "Epoch 107/1000\n",
            "16/16 - 0s - 8ms/step - loss: 0.2729 - val_loss: 0.3894\n",
            "Epoch 108/1000\n",
            "16/16 - 0s - 5ms/step - loss: 0.2762 - val_loss: 0.3859\n",
            "Epoch 109/1000\n",
            "16/16 - 0s - 6ms/step - loss: 0.2607 - val_loss: 0.4046\n",
            "Epoch 110/1000\n",
            "16/16 - 0s - 9ms/step - loss: 0.2740 - val_loss: 0.3790\n",
            "Epoch 111/1000\n",
            "16/16 - 0s - 5ms/step - loss: 0.2606 - val_loss: 0.3880\n",
            "Epoch 112/1000\n",
            "16/16 - 0s - 9ms/step - loss: 0.2569 - val_loss: 0.3801\n",
            "Epoch 112: early stopping\n"
          ]
        },
        {
          "output_type": "display_data",
          "data": {
            "text/plain": [
              "\u001b[1mModel: \"sequential\"\u001b[0m\n"
            ],
            "text/html": [
              "<pre style=\"white-space:pre;overflow-x:auto;line-height:normal;font-family:Menlo,'DejaVu Sans Mono',consolas,'Courier New',monospace\"><span style=\"font-weight: bold\">Model: \"sequential\"</span>\n",
              "</pre>\n"
            ]
          },
          "metadata": {}
        },
        {
          "output_type": "display_data",
          "data": {
            "text/plain": [
              "┏━━━━━━━━━━━━━━━━━━━━━━━━━━━━━━━━━━━━━━┳━━━━━━━━━━━━━━━━━━━━━━━━━━━━━┳━━━━━━━━━━━━━━━━━┓\n",
              "┃\u001b[1m \u001b[0m\u001b[1mLayer (type)                        \u001b[0m\u001b[1m \u001b[0m┃\u001b[1m \u001b[0m\u001b[1mOutput Shape               \u001b[0m\u001b[1m \u001b[0m┃\u001b[1m \u001b[0m\u001b[1m        Param #\u001b[0m\u001b[1m \u001b[0m┃\n",
              "┡━━━━━━━━━━━━━━━━━━━━━━━━━━━━━━━━━━━━━━╇━━━━━━━━━━━━━━━━━━━━━━━━━━━━━╇━━━━━━━━━━━━━━━━━┩\n",
              "│ dense (\u001b[38;5;33mDense\u001b[0m)                        │ (\u001b[38;5;45mNone\u001b[0m, \u001b[38;5;34m200\u001b[0m)                 │           \u001b[38;5;34m2,400\u001b[0m │\n",
              "├──────────────────────────────────────┼─────────────────────────────┼─────────────────┤\n",
              "│ dense_1 (\u001b[38;5;33mDense\u001b[0m)                      │ (\u001b[38;5;45mNone\u001b[0m, \u001b[38;5;34m50\u001b[0m)                  │          \u001b[38;5;34m10,050\u001b[0m │\n",
              "├──────────────────────────────────────┼─────────────────────────────┼─────────────────┤\n",
              "│ dense_2 (\u001b[38;5;33mDense\u001b[0m)                      │ (\u001b[38;5;45mNone\u001b[0m, \u001b[38;5;34m1\u001b[0m)                   │              \u001b[38;5;34m51\u001b[0m │\n",
              "└──────────────────────────────────────┴─────────────────────────────┴─────────────────┘\n"
            ],
            "text/html": [
              "<pre style=\"white-space:pre;overflow-x:auto;line-height:normal;font-family:Menlo,'DejaVu Sans Mono',consolas,'Courier New',monospace\">┏━━━━━━━━━━━━━━━━━━━━━━━━━━━━━━━━━━━━━━┳━━━━━━━━━━━━━━━━━━━━━━━━━━━━━┳━━━━━━━━━━━━━━━━━┓\n",
              "┃<span style=\"font-weight: bold\"> Layer (type)                         </span>┃<span style=\"font-weight: bold\"> Output Shape                </span>┃<span style=\"font-weight: bold\">         Param # </span>┃\n",
              "┡━━━━━━━━━━━━━━━━━━━━━━━━━━━━━━━━━━━━━━╇━━━━━━━━━━━━━━━━━━━━━━━━━━━━━╇━━━━━━━━━━━━━━━━━┩\n",
              "│ dense (<span style=\"color: #0087ff; text-decoration-color: #0087ff\">Dense</span>)                        │ (<span style=\"color: #00d7ff; text-decoration-color: #00d7ff\">None</span>, <span style=\"color: #00af00; text-decoration-color: #00af00\">200</span>)                 │           <span style=\"color: #00af00; text-decoration-color: #00af00\">2,400</span> │\n",
              "├──────────────────────────────────────┼─────────────────────────────┼─────────────────┤\n",
              "│ dense_1 (<span style=\"color: #0087ff; text-decoration-color: #0087ff\">Dense</span>)                      │ (<span style=\"color: #00d7ff; text-decoration-color: #00d7ff\">None</span>, <span style=\"color: #00af00; text-decoration-color: #00af00\">50</span>)                  │          <span style=\"color: #00af00; text-decoration-color: #00af00\">10,050</span> │\n",
              "├──────────────────────────────────────┼─────────────────────────────┼─────────────────┤\n",
              "│ dense_2 (<span style=\"color: #0087ff; text-decoration-color: #0087ff\">Dense</span>)                      │ (<span style=\"color: #00d7ff; text-decoration-color: #00d7ff\">None</span>, <span style=\"color: #00af00; text-decoration-color: #00af00\">1</span>)                   │              <span style=\"color: #00af00; text-decoration-color: #00af00\">51</span> │\n",
              "└──────────────────────────────────────┴─────────────────────────────┴─────────────────┘\n",
              "</pre>\n"
            ]
          },
          "metadata": {}
        },
        {
          "output_type": "display_data",
          "data": {
            "text/plain": [
              "\u001b[1m Total params: \u001b[0m\u001b[38;5;34m37,505\u001b[0m (146.51 KB)\n"
            ],
            "text/html": [
              "<pre style=\"white-space:pre;overflow-x:auto;line-height:normal;font-family:Menlo,'DejaVu Sans Mono',consolas,'Courier New',monospace\"><span style=\"font-weight: bold\"> Total params: </span><span style=\"color: #00af00; text-decoration-color: #00af00\">37,505</span> (146.51 KB)\n",
              "</pre>\n"
            ]
          },
          "metadata": {}
        },
        {
          "output_type": "display_data",
          "data": {
            "text/plain": [
              "\u001b[1m Trainable params: \u001b[0m\u001b[38;5;34m12,501\u001b[0m (48.83 KB)\n"
            ],
            "text/html": [
              "<pre style=\"white-space:pre;overflow-x:auto;line-height:normal;font-family:Menlo,'DejaVu Sans Mono',consolas,'Courier New',monospace\"><span style=\"font-weight: bold\"> Trainable params: </span><span style=\"color: #00af00; text-decoration-color: #00af00\">12,501</span> (48.83 KB)\n",
              "</pre>\n"
            ]
          },
          "metadata": {}
        },
        {
          "output_type": "display_data",
          "data": {
            "text/plain": [
              "\u001b[1m Non-trainable params: \u001b[0m\u001b[38;5;34m0\u001b[0m (0.00 B)\n"
            ],
            "text/html": [
              "<pre style=\"white-space:pre;overflow-x:auto;line-height:normal;font-family:Menlo,'DejaVu Sans Mono',consolas,'Courier New',monospace\"><span style=\"font-weight: bold\"> Non-trainable params: </span><span style=\"color: #00af00; text-decoration-color: #00af00\">0</span> (0.00 B)\n",
              "</pre>\n"
            ]
          },
          "metadata": {}
        },
        {
          "output_type": "display_data",
          "data": {
            "text/plain": [
              "\u001b[1m Optimizer params: \u001b[0m\u001b[38;5;34m25,004\u001b[0m (97.68 KB)\n"
            ],
            "text/html": [
              "<pre style=\"white-space:pre;overflow-x:auto;line-height:normal;font-family:Menlo,'DejaVu Sans Mono',consolas,'Courier New',monospace\"><span style=\"font-weight: bold\"> Optimizer params: </span><span style=\"color: #00af00; text-decoration-color: #00af00\">25,004</span> (97.68 KB)\n",
              "</pre>\n"
            ]
          },
          "metadata": {}
        },
        {
          "output_type": "stream",
          "name": "stdout",
          "text": [
            "Test MSE: 0.4014\n",
            "Benchmark MSE: 62.40\n"
          ]
        }
      ],
      "source": [
        "import numpy as np\n",
        "import pandas as pd\n",
        "from sklearn.model_selection import train_test_split\n",
        "from keras.models import Sequential\n",
        "from keras.layers import Dense\n",
        "from keras.callbacks import EarlyStopping, ModelCheckpoint\n",
        "from tensorflow.keras.optimizers import Adam\n",
        "from sklearn.preprocessing import StandardScaler\n",
        "\n",
        "SEED = 2017\n",
        "\n",
        "# Load the wine data set with the correct delimiter\n",
        "data = pd.read_csv('/content/winequality-red.csv', sep=',')\n",
        "\n",
        "# Check column names and inspect the data\n",
        "print('Column names:', data.columns)\n",
        "print(data.head())\n",
        "\n",
        "# Ensure the column 'quality' exists and is correctly named\n",
        "if 'quality' not in data.columns:\n",
        "    raise KeyError(\"Column 'quality' not found in the dataset\")\n",
        "\n",
        "y = data['quality']\n",
        "X = data.drop(['quality'], axis=1)\n",
        "\n",
        "# Split the data\n",
        "X_train, X_test, y_train, y_test = train_test_split(X, y, test_size=0.2, random_state=SEED)\n",
        "\n",
        "# Print average quality and first rows of training set\n",
        "print('Average quality training set: {:.4f}'.format(y_train.mean()))\n",
        "print(X_train.head())\n",
        "\n",
        "# Scale features\n",
        "scaler = StandardScaler().fit(X_train)\n",
        "X_train = pd.DataFrame(scaler.transform(X_train), columns=X_train.columns)\n",
        "X_test = pd.DataFrame(scaler.transform(X_test), columns=X_test.columns)\n",
        "\n",
        "# Print Mean Squared Error (MSE) of the baseline model\n",
        "baseline_mse = np.mean((y_test - y_train.mean()) ** 2)\n",
        "print('Baseline MSE:', baseline_mse)\n",
        "\n",
        "# Build the neural network\n",
        "model = Sequential()\n",
        "model.add(Dense(200, input_dim=X_train.shape[1], activation='relu'))\n",
        "model.add(Dense(50, activation='relu'))\n",
        "model.add(Dense(1, activation='linear'))\n",
        "\n",
        "# Compile the model\n",
        "opt = Adam()\n",
        "model.compile(loss='mse', optimizer=opt)\n",
        "\n",
        "# Define callbacks\n",
        "callbacks = [\n",
        "    EarlyStopping(monitor='val_loss', patience=30, verbose=2),\n",
        "    ModelCheckpoint('checkpoints/multi_layer_best_model.keras', monitor='val_loss', save_best_only=True, verbose=0)\n",
        "]\n",
        "\n",
        "# Train the model\n",
        "batch_size = 64\n",
        "n_epochs = 1000\n",
        "history = model.fit(\n",
        "    X_train.values, y_train,\n",
        "    batch_size=batch_size,\n",
        "    epochs=n_epochs,\n",
        "    validation_split=0.2,\n",
        "    verbose=2,\n",
        "    callbacks=callbacks\n",
        ")\n",
        "\n",
        "# Print model summary\n",
        "model.summary()\n",
        "\n",
        "# Load the best model and evaluate\n",
        "best_model = model\n",
        "best_model.load_weights('checkpoints/multi_layer_best_model.keras')\n",
        "best_model.compile(loss='mse', optimizer='adam')\n",
        "\n",
        "# Evaluate on the test set\n",
        "score = best_model.evaluate(X_test.values, y_test, verbose=0)\n",
        "\n",
        "# Print the test MSE directly\n",
        "print('Test MSE: %.4f' % score)\n",
        "\n",
        "# Benchmark MSE on dataset\n",
        "benchmark_mse = 62.4  # This value should be set according to your benchmark\n",
        "print('Benchmark MSE: %.2f' % benchmark_mse)"
      ]
    }
  ],
  "metadata": {
    "colab": {
      "provenance": [],
      "mount_file_id": "109DFWfETrkWFlwnWiTM6w69WG8y-tec0",
      "authorship_tag": "ABX9TyOd170lj0wYDLrEs3XwELik",
      "include_colab_link": true
    },
    "kernelspec": {
      "display_name": "Python 3",
      "name": "python3"
    },
    "language_info": {
      "name": "python"
    }
  },
  "nbformat": 4,
  "nbformat_minor": 0
}