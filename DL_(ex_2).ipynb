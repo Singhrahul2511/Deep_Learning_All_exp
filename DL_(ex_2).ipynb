{
  "cells": [
    {
      "cell_type": "markdown",
      "metadata": {
        "id": "view-in-github",
        "colab_type": "text"
      },
      "source": [
        "<a href=\"https://colab.research.google.com/github/Singhrahul2511/Deep_Learning_All_exp/blob/main/DL_(ex_2).ipynb\" target=\"_parent\"><img src=\"https://colab.research.google.com/assets/colab-badge.svg\" alt=\"Open In Colab\"/></a>"
      ]
    },
    {
      "cell_type": "code",
      "execution_count": null,
      "metadata": {
        "id": "reyWLE2cY50J"
      },
      "outputs": [],
      "source": [
        "import numpy as np\n",
        "from sklearn import datasets\n",
        "from sklearn.model_selection import train_test_split\n",
        "from sklearn.linear_model import Perceptron\n",
        "from sklearn.metrics import accuracy_score, precision_score, recall_score, f1_score\n",
        "#  1: Load the diabetes dataset\n",
        "diabetes = datasets.load_diabetes()\n",
        "X, y = diabetes.data, diabetes.target\n",
        "#  2: Preprocess the data\n",
        "X = X[:, np.newaxis, 2]\n",
        "y = (y > 140).astype(int)\n",
        "#  3: Split the dataset into training and testing sets\n",
        "X_train, X_test, y_train, y_test = train_test_split(X, y, test_size=0.2, random_state=42)"
      ]
    },
    {
      "cell_type": "code",
      "execution_count": null,
      "metadata": {
        "colab": {
          "background_save": true
        },
        "id": "3VAIPuFVZAgC",
        "outputId": "7f04a336-a174-4803-c2df-a3259cba1093"
      },
      "outputs": [
        {
          "name": "stdout",
          "output_type": "stream",
          "text": [
            "Accuracy: 0.6629213483146067\n",
            "Precision: 0.6470588235294118\n",
            "Recall: 0.55\n",
            "F1 Score: 0.5945945945945946\n"
          ]
        }
      ],
      "source": []
    }
  ],
  "metadata": {
    "colab": {
      "provenance": [],
      "authorship_tag": "ABX9TyMG/lH+veJ9uORp2TlH+LTB",
      "include_colab_link": true
    },
    "kernelspec": {
      "display_name": "Python 3",
      "name": "python3"
    },
    "language_info": {
      "name": "python"
    }
  },
  "nbformat": 4,
  "nbformat_minor": 0
}